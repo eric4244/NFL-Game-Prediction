{
 "cells": [
  {
   "cell_type": "code",
   "execution_count": 77,
   "id": "a5a5877f-cfe5-4170-8faf-1aec939065f6",
   "metadata": {},
   "outputs": [],
   "source": [
    "import pandas as pd\n",
    "from sklearn import preprocessing\n",
    "from sklearn.model_selection import train_test_split\n",
    "from keras.models import Sequential\n",
    "from keras.layers import Dense\n",
    "from keras.layers import Dropout\n",
    "import matplotlib.pyplot as plt"
   ]
  },
  {
   "cell_type": "code",
   "execution_count": 78,
   "id": "1226cfe2-0b03-4cf0-82e6-fd381aa066dd",
   "metadata": {},
   "outputs": [],
   "source": [
    "df = pd.read_csv('MyNFLDS.csv')"
   ]
  },
  {
   "cell_type": "markdown",
   "id": "151836d9-78b1-4ce0-8ae1-e1dfaac02ca5",
   "metadata": {},
   "source": [
    "# Removing 6 of the lowest scoring features"
   ]
  },
  {
   "cell_type": "code",
   "execution_count": 79,
   "id": "77feca4a-e8d7-46a2-84fc-40a39f93b0a1",
   "metadata": {},
   "outputs": [],
   "source": [
    "df = df.drop(columns=[\"T0 TDs\", \"T1 TDs\", \"T0 Field Goals\", \"T1 Field Goals\", \"T0 Points\", \"T1 Points\", \"Home Team\", \"T0 Penalty Yrds\", \"T0 Passing Yrds\", \"T0 Avg Rush Yrds/Att\", \"T1 Total Plays\", \"T1 Avg Rush Yrds/Att\", \"T0 Total Plays\"])"
   ]
  },
  {
   "cell_type": "code",
   "execution_count": 80,
   "id": "04c934b3-b1ff-404d-abf8-319fa33b0d74",
   "metadata": {},
   "outputs": [
    {
     "name": "stdout",
     "output_type": "stream",
     "text": [
      "20\n"
     ]
    }
   ],
   "source": [
    "colInd = len(df.axes[1]) - 1\n",
    "print(colInd)"
   ]
  },
  {
   "cell_type": "code",
   "execution_count": 81,
   "id": "35a1e1ba-3716-4003-950c-fdcc62d99401",
   "metadata": {},
   "outputs": [],
   "source": [
    "dataset = df.values"
   ]
  },
  {
   "cell_type": "code",
   "execution_count": 82,
   "id": "42f75bd6-b430-4713-a75f-14adf21439ab",
   "metadata": {},
   "outputs": [
    {
     "data": {
      "text/plain": [
       "array([[  4., 134., 464., ...,   0.,   2.,   1.],\n",
       "       [  4.,  56., 507., ...,   3.,   8.,   0.],\n",
       "       [  2.,  57., 293., ...,   0.,   2.,   1.],\n",
       "       ...,\n",
       "       [  2.,  84., 344., ...,   2.,   7.,   0.],\n",
       "       [  3.,  65., 185., ...,   0.,   0.,   1.],\n",
       "       [  0.,  70., 323., ...,   2.,   4.,   0.]])"
      ]
     },
     "execution_count": 82,
     "metadata": {},
     "output_type": "execute_result"
    }
   ],
   "source": [
    "dataset"
   ]
  },
  {
   "cell_type": "code",
   "execution_count": 83,
   "id": "e9b9ca12-f10e-4986-89fe-cc8a6974a0a9",
   "metadata": {},
   "outputs": [],
   "source": [
    "X = dataset[:,0:colInd]"
   ]
  },
  {
   "cell_type": "code",
   "execution_count": 84,
   "id": "81029bff-3ec1-4040-b460-021fee2b64d9",
   "metadata": {},
   "outputs": [],
   "source": [
    "Y = dataset[:,colInd]"
   ]
  },
  {
   "cell_type": "code",
   "execution_count": 85,
   "id": "f1bc3bc9-fe23-49ae-85ec-8a72fc8858dd",
   "metadata": {},
   "outputs": [],
   "source": [
    "min_max_scaler = preprocessing.MinMaxScaler()\n",
    "X_scale = min_max_scaler.fit_transform(X)"
   ]
  },
  {
   "cell_type": "code",
   "execution_count": 86,
   "id": "37401d7a-bf9c-4836-86d9-85b42db302a1",
   "metadata": {},
   "outputs": [
    {
     "data": {
      "text/plain": [
       "array([[0.8       , 0.45220588, 0.676     , ..., 0.67857143, 0.        ,\n",
       "        0.22222222],\n",
       "       [0.8       , 0.16544118, 0.762     , ..., 0.57142857, 0.6       ,\n",
       "        0.88888889],\n",
       "       [0.4       , 0.16911765, 0.334     , ..., 1.        , 0.        ,\n",
       "        0.22222222],\n",
       "       ...,\n",
       "       [0.4       , 0.26838235, 0.436     , ..., 0.07142857, 0.4       ,\n",
       "        0.77777778],\n",
       "       [0.6       , 0.19852941, 0.118     , ..., 0.75      , 0.        ,\n",
       "        0.        ],\n",
       "       [0.        , 0.21691176, 0.394     , ..., 0.21428571, 0.4       ,\n",
       "        0.44444444]])"
      ]
     },
     "execution_count": 86,
     "metadata": {},
     "output_type": "execute_result"
    }
   ],
   "source": [
    "X_scale"
   ]
  },
  {
   "cell_type": "code",
   "execution_count": 87,
   "id": "060efed2-498c-409c-9c43-9297b610a878",
   "metadata": {},
   "outputs": [],
   "source": [
    "X_train, X_val_and_test, Y_train, Y_val_and_test = train_test_split(X_scale, Y, test_size = 0.15)"
   ]
  },
  {
   "cell_type": "code",
   "execution_count": 88,
   "id": "757f0736-c03a-4741-8cb1-0ec600561cf9",
   "metadata": {},
   "outputs": [],
   "source": [
    "X_val, X_test, Y_val, Y_test = train_test_split(X_val_and_test, Y_val_and_test, test_size = 0.5)"
   ]
  },
  {
   "cell_type": "code",
   "execution_count": 89,
   "id": "060db70e-3d01-44a8-99f8-608bb0305666",
   "metadata": {},
   "outputs": [
    {
     "name": "stdout",
     "output_type": "stream",
     "text": [
      "(434, 20) (38, 20) (39, 20) (434,) (38,) (39,)\n"
     ]
    }
   ],
   "source": [
    "print(X_train.shape, X_val.shape, X_test.shape, Y_train.shape, Y_val.shape, Y_test.shape)"
   ]
  },
  {
   "cell_type": "code",
   "execution_count": 90,
   "id": "62cecc48-1bdf-4964-9cbc-84c9307d4807",
   "metadata": {},
   "outputs": [],
   "source": [
    "modelA = Sequential([\n",
    "    Dense(8, activation = 'relu', input_shape = (colInd,)),\n",
    "    Dense(8, activation = 'relu'),\n",
    "    \n",
    "    Dropout(.5),\n",
    "    \n",
    "    Dense(16, activation = 'relu'),\n",
    "    Dense(16, activation = 'relu'),\n",
    "    \n",
    "    Dense(32, activation = 'relu'),\n",
    "    Dense(32, activation = 'relu'),\n",
    "    Dense(64, activation = 'relu'),\n",
    "    \n",
    "    Dense(1, activation = 'sigmoid'),])"
   ]
  },
  {
   "cell_type": "code",
   "execution_count": 91,
   "id": "1c80230f-ad6e-4b99-b18f-2dfe9ab287a4",
   "metadata": {},
   "outputs": [],
   "source": [
    "modelA.compile(optimizer = 'sgd', loss = 'binary_crossentropy', metrics = ['accuracy'])"
   ]
  },
  {
   "cell_type": "code",
   "execution_count": 92,
   "id": "029de989-b623-45d1-a62d-be69ed537b64",
   "metadata": {},
   "outputs": [
    {
     "name": "stdout",
     "output_type": "stream",
     "text": [
      "Epoch 1/75\n",
      "87/87 [==============================] - 1s 4ms/step - loss: 0.6934 - accuracy: 0.5115 - val_loss: 0.6736 - val_accuracy: 0.7105\n",
      "Epoch 2/75\n",
      "87/87 [==============================] - 0s 2ms/step - loss: 0.6888 - accuracy: 0.5622 - val_loss: 0.6616 - val_accuracy: 0.7105\n",
      "Epoch 3/75\n",
      "87/87 [==============================] - 0s 2ms/step - loss: 0.6878 - accuracy: 0.5622 - val_loss: 0.6558 - val_accuracy: 0.7105\n",
      "Epoch 4/75\n",
      "87/87 [==============================] - 0s 2ms/step - loss: 0.6865 - accuracy: 0.5622 - val_loss: 0.6526 - val_accuracy: 0.7105\n",
      "Epoch 5/75\n",
      "87/87 [==============================] - 0s 2ms/step - loss: 0.6863 - accuracy: 0.5622 - val_loss: 0.6526 - val_accuracy: 0.7105\n",
      "Epoch 6/75\n",
      "87/87 [==============================] - 0s 2ms/step - loss: 0.6856 - accuracy: 0.5622 - val_loss: 0.6496 - val_accuracy: 0.7105\n",
      "Epoch 7/75\n",
      "87/87 [==============================] - 0s 2ms/step - loss: 0.6844 - accuracy: 0.5622 - val_loss: 0.6455 - val_accuracy: 0.7105\n",
      "Epoch 8/75\n",
      "87/87 [==============================] - 0s 2ms/step - loss: 0.6854 - accuracy: 0.5622 - val_loss: 0.6490 - val_accuracy: 0.7105\n",
      "Epoch 9/75\n",
      "87/87 [==============================] - 0s 2ms/step - loss: 0.6841 - accuracy: 0.5622 - val_loss: 0.6473 - val_accuracy: 0.7105\n",
      "Epoch 10/75\n",
      "87/87 [==============================] - 0s 2ms/step - loss: 0.6838 - accuracy: 0.5622 - val_loss: 0.6491 - val_accuracy: 0.7105\n",
      "Epoch 11/75\n",
      "87/87 [==============================] - 0s 2ms/step - loss: 0.6829 - accuracy: 0.5622 - val_loss: 0.6463 - val_accuracy: 0.7105\n",
      "Epoch 12/75\n",
      "87/87 [==============================] - 0s 2ms/step - loss: 0.6823 - accuracy: 0.5622 - val_loss: 0.6467 - val_accuracy: 0.7105\n",
      "Epoch 13/75\n",
      "87/87 [==============================] - 0s 2ms/step - loss: 0.6818 - accuracy: 0.5622 - val_loss: 0.6425 - val_accuracy: 0.7105\n",
      "Epoch 14/75\n",
      "87/87 [==============================] - 0s 2ms/step - loss: 0.6826 - accuracy: 0.5622 - val_loss: 0.6444 - val_accuracy: 0.7105\n",
      "Epoch 15/75\n",
      "87/87 [==============================] - 0s 2ms/step - loss: 0.6816 - accuracy: 0.5622 - val_loss: 0.6472 - val_accuracy: 0.7105\n",
      "Epoch 16/75\n",
      "87/87 [==============================] - 0s 2ms/step - loss: 0.6809 - accuracy: 0.5622 - val_loss: 0.6462 - val_accuracy: 0.7105\n",
      "Epoch 17/75\n",
      "87/87 [==============================] - 0s 2ms/step - loss: 0.6802 - accuracy: 0.5622 - val_loss: 0.6445 - val_accuracy: 0.7105\n",
      "Epoch 18/75\n",
      "87/87 [==============================] - 0s 2ms/step - loss: 0.6766 - accuracy: 0.5599 - val_loss: 0.6435 - val_accuracy: 0.7105\n",
      "Epoch 19/75\n",
      "87/87 [==============================] - 0s 2ms/step - loss: 0.6793 - accuracy: 0.5668 - val_loss: 0.6409 - val_accuracy: 0.7105\n",
      "Epoch 20/75\n",
      "87/87 [==============================] - 0s 2ms/step - loss: 0.6722 - accuracy: 0.5922 - val_loss: 0.6367 - val_accuracy: 0.7105\n",
      "Epoch 21/75\n",
      "87/87 [==============================] - 0s 2ms/step - loss: 0.6698 - accuracy: 0.6060 - val_loss: 0.6333 - val_accuracy: 0.7105\n",
      "Epoch 22/75\n",
      "87/87 [==============================] - 0s 2ms/step - loss: 0.6657 - accuracy: 0.5945 - val_loss: 0.6383 - val_accuracy: 0.7632\n",
      "Epoch 23/75\n",
      "87/87 [==============================] - 0s 2ms/step - loss: 0.6582 - accuracy: 0.6406 - val_loss: 0.6286 - val_accuracy: 0.7368\n",
      "Epoch 24/75\n",
      "87/87 [==============================] - 0s 2ms/step - loss: 0.6594 - accuracy: 0.6359 - val_loss: 0.6111 - val_accuracy: 0.7632\n",
      "Epoch 25/75\n",
      "87/87 [==============================] - 0s 2ms/step - loss: 0.6578 - accuracy: 0.6083 - val_loss: 0.6053 - val_accuracy: 0.7368\n",
      "Epoch 26/75\n",
      "87/87 [==============================] - 0s 2ms/step - loss: 0.6536 - accuracy: 0.6221 - val_loss: 0.5912 - val_accuracy: 0.7632\n",
      "Epoch 27/75\n",
      "87/87 [==============================] - 0s 2ms/step - loss: 0.6395 - accuracy: 0.6498 - val_loss: 0.5864 - val_accuracy: 0.7105\n",
      "Epoch 28/75\n",
      "87/87 [==============================] - 0s 2ms/step - loss: 0.6215 - accuracy: 0.6728 - val_loss: 0.5631 - val_accuracy: 0.7368\n",
      "Epoch 29/75\n",
      "87/87 [==============================] - 0s 2ms/step - loss: 0.6248 - accuracy: 0.6728 - val_loss: 0.5469 - val_accuracy: 0.7368\n",
      "Epoch 30/75\n",
      "87/87 [==============================] - 0s 2ms/step - loss: 0.6075 - accuracy: 0.6843 - val_loss: 0.5269 - val_accuracy: 0.7368\n",
      "Epoch 31/75\n",
      "87/87 [==============================] - 0s 2ms/step - loss: 0.5994 - accuracy: 0.6959 - val_loss: 0.5032 - val_accuracy: 0.7632\n",
      "Epoch 32/75\n",
      "87/87 [==============================] - 0s 2ms/step - loss: 0.5908 - accuracy: 0.6889 - val_loss: 0.4834 - val_accuracy: 0.7895\n",
      "Epoch 33/75\n",
      "87/87 [==============================] - 0s 3ms/step - loss: 0.5565 - accuracy: 0.7373 - val_loss: 0.4707 - val_accuracy: 0.8684\n",
      "Epoch 34/75\n",
      "87/87 [==============================] - 0s 2ms/step - loss: 0.5307 - accuracy: 0.7650 - val_loss: 0.4408 - val_accuracy: 0.7895\n",
      "Epoch 35/75\n",
      "87/87 [==============================] - 0s 2ms/step - loss: 0.5330 - accuracy: 0.7373 - val_loss: 0.4299 - val_accuracy: 0.8158\n",
      "Epoch 36/75\n",
      "87/87 [==============================] - 0s 2ms/step - loss: 0.5296 - accuracy: 0.7442 - val_loss: 0.4021 - val_accuracy: 0.8684\n",
      "Epoch 37/75\n",
      "87/87 [==============================] - 0s 2ms/step - loss: 0.5084 - accuracy: 0.7581 - val_loss: 0.3808 - val_accuracy: 0.8947\n",
      "Epoch 38/75\n",
      "87/87 [==============================] - 0s 2ms/step - loss: 0.5066 - accuracy: 0.7742 - val_loss: 0.3821 - val_accuracy: 0.8684\n",
      "Epoch 39/75\n",
      "87/87 [==============================] - 0s 2ms/step - loss: 0.4812 - accuracy: 0.7696 - val_loss: 0.3565 - val_accuracy: 0.8947\n",
      "Epoch 40/75\n",
      "87/87 [==============================] - 0s 2ms/step - loss: 0.4832 - accuracy: 0.7811 - val_loss: 0.3410 - val_accuracy: 0.9211\n",
      "Epoch 41/75\n",
      "87/87 [==============================] - 0s 2ms/step - loss: 0.4702 - accuracy: 0.7719 - val_loss: 0.3421 - val_accuracy: 0.8947\n",
      "Epoch 42/75\n",
      "87/87 [==============================] - 0s 2ms/step - loss: 0.4813 - accuracy: 0.7650 - val_loss: 0.3128 - val_accuracy: 0.9211\n",
      "Epoch 43/75\n",
      "87/87 [==============================] - 0s 2ms/step - loss: 0.4719 - accuracy: 0.7903 - val_loss: 0.3079 - val_accuracy: 0.9211\n",
      "Epoch 44/75\n",
      "87/87 [==============================] - 0s 2ms/step - loss: 0.4481 - accuracy: 0.7972 - val_loss: 0.3650 - val_accuracy: 0.8684\n",
      "Epoch 45/75\n",
      "87/87 [==============================] - 0s 2ms/step - loss: 0.4353 - accuracy: 0.8065 - val_loss: 0.2778 - val_accuracy: 0.9474\n",
      "Epoch 46/75\n",
      "87/87 [==============================] - 0s 2ms/step - loss: 0.4395 - accuracy: 0.8041 - val_loss: 0.3408 - val_accuracy: 0.8947\n",
      "Epoch 47/75\n",
      "87/87 [==============================] - 0s 2ms/step - loss: 0.4313 - accuracy: 0.8088 - val_loss: 0.3591 - val_accuracy: 0.8684\n",
      "Epoch 48/75\n",
      "87/87 [==============================] - 0s 3ms/step - loss: 0.4302 - accuracy: 0.8018 - val_loss: 0.2845 - val_accuracy: 0.8947\n",
      "Epoch 49/75\n",
      "87/87 [==============================] - 0s 2ms/step - loss: 0.4322 - accuracy: 0.8018 - val_loss: 0.2951 - val_accuracy: 0.8947\n",
      "Epoch 50/75\n",
      "87/87 [==============================] - 0s 3ms/step - loss: 0.4406 - accuracy: 0.7926 - val_loss: 0.3213 - val_accuracy: 0.8947\n",
      "Epoch 51/75\n",
      "87/87 [==============================] - 0s 3ms/step - loss: 0.4169 - accuracy: 0.8111 - val_loss: 0.2871 - val_accuracy: 0.8947\n",
      "Epoch 52/75\n",
      "87/87 [==============================] - 0s 3ms/step - loss: 0.4158 - accuracy: 0.8180 - val_loss: 0.2875 - val_accuracy: 0.9211\n",
      "Epoch 53/75\n",
      "87/87 [==============================] - 0s 3ms/step - loss: 0.4074 - accuracy: 0.8203 - val_loss: 0.3129 - val_accuracy: 0.8947\n",
      "Epoch 54/75\n",
      "87/87 [==============================] - 0s 2ms/step - loss: 0.3835 - accuracy: 0.8249 - val_loss: 0.2494 - val_accuracy: 0.9474\n",
      "Epoch 55/75\n",
      "87/87 [==============================] - 0s 2ms/step - loss: 0.4017 - accuracy: 0.8203 - val_loss: 0.2586 - val_accuracy: 0.9474\n",
      "Epoch 56/75\n",
      "87/87 [==============================] - 0s 2ms/step - loss: 0.3955 - accuracy: 0.8111 - val_loss: 0.2533 - val_accuracy: 0.9474\n",
      "Epoch 57/75\n",
      "87/87 [==============================] - 0s 2ms/step - loss: 0.3952 - accuracy: 0.8318 - val_loss: 0.2669 - val_accuracy: 0.8947\n",
      "Epoch 58/75\n",
      "87/87 [==============================] - 0s 2ms/step - loss: 0.3808 - accuracy: 0.8410 - val_loss: 0.2498 - val_accuracy: 0.9474\n",
      "Epoch 59/75\n",
      "87/87 [==============================] - 0s 2ms/step - loss: 0.3989 - accuracy: 0.8018 - val_loss: 0.2429 - val_accuracy: 0.9474\n",
      "Epoch 60/75\n",
      "87/87 [==============================] - 0s 2ms/step - loss: 0.4005 - accuracy: 0.7880 - val_loss: 0.3145 - val_accuracy: 0.8947\n",
      "Epoch 61/75\n",
      "87/87 [==============================] - 0s 2ms/step - loss: 0.4056 - accuracy: 0.8111 - val_loss: 0.2446 - val_accuracy: 0.9474\n",
      "Epoch 62/75\n",
      "87/87 [==============================] - 0s 2ms/step - loss: 0.3889 - accuracy: 0.8134 - val_loss: 0.2833 - val_accuracy: 0.9211\n",
      "Epoch 63/75\n",
      "87/87 [==============================] - 0s 2ms/step - loss: 0.3870 - accuracy: 0.8249 - val_loss: 0.3239 - val_accuracy: 0.8947\n",
      "Epoch 64/75\n",
      "87/87 [==============================] - 0s 2ms/step - loss: 0.4007 - accuracy: 0.8203 - val_loss: 0.2721 - val_accuracy: 0.9211\n",
      "Epoch 65/75\n",
      "87/87 [==============================] - 0s 2ms/step - loss: 0.3683 - accuracy: 0.8295 - val_loss: 0.2930 - val_accuracy: 0.9211\n",
      "Epoch 66/75\n",
      "87/87 [==============================] - 0s 2ms/step - loss: 0.3771 - accuracy: 0.8410 - val_loss: 0.2981 - val_accuracy: 0.9211\n",
      "Epoch 67/75\n",
      "87/87 [==============================] - 0s 2ms/step - loss: 0.3914 - accuracy: 0.8272 - val_loss: 0.2516 - val_accuracy: 0.9211\n",
      "Epoch 68/75\n",
      "87/87 [==============================] - 0s 2ms/step - loss: 0.3720 - accuracy: 0.8341 - val_loss: 0.4320 - val_accuracy: 0.8947\n",
      "Epoch 69/75\n",
      "87/87 [==============================] - 0s 2ms/step - loss: 0.3831 - accuracy: 0.8249 - val_loss: 0.2426 - val_accuracy: 0.9474\n",
      "Epoch 70/75\n",
      "87/87 [==============================] - 0s 2ms/step - loss: 0.3762 - accuracy: 0.8249 - val_loss: 0.3447 - val_accuracy: 0.8684\n",
      "Epoch 71/75\n",
      "87/87 [==============================] - 0s 2ms/step - loss: 0.3535 - accuracy: 0.8433 - val_loss: 0.2289 - val_accuracy: 0.9474\n",
      "Epoch 72/75\n",
      "87/87 [==============================] - 0s 2ms/step - loss: 0.3808 - accuracy: 0.8088 - val_loss: 0.2641 - val_accuracy: 0.9211\n",
      "Epoch 73/75\n",
      "87/87 [==============================] - 0s 2ms/step - loss: 0.3566 - accuracy: 0.8456 - val_loss: 0.2190 - val_accuracy: 0.9474\n",
      "Epoch 74/75\n",
      "87/87 [==============================] - 0s 2ms/step - loss: 0.3964 - accuracy: 0.8249 - val_loss: 0.3576 - val_accuracy: 0.8684\n",
      "Epoch 75/75\n",
      "87/87 [==============================] - 0s 2ms/step - loss: 0.3766 - accuracy: 0.8364 - val_loss: 0.2407 - val_accuracy: 0.9474\n"
     ]
    }
   ],
   "source": [
    "hist = modelA.fit(X_train, Y_train, batch_size = 5, epochs = 75, validation_data = (X_val, Y_val))"
   ]
  },
  {
   "cell_type": "code",
   "execution_count": 93,
   "id": "dc1388e7-5885-429f-b755-366df4bce664",
   "metadata": {},
   "outputs": [
    {
     "name": "stderr",
     "output_type": "stream",
     "text": [
      "WARNING:absl:Found untraced functions such as _update_step_xla while saving (showing 1 of 1). These functions will not be directly callable after loading.\n"
     ]
    },
    {
     "name": "stdout",
     "output_type": "stream",
     "text": [
      "INFO:tensorflow:Assets written to: NFLmodelANewDS\\assets\n"
     ]
    },
    {
     "name": "stderr",
     "output_type": "stream",
     "text": [
      "INFO:tensorflow:Assets written to: NFLmodelANewDS\\assets\n"
     ]
    }
   ],
   "source": [
    "modelA.save(\"NFLmodelANewDS\")"
   ]
  },
  {
   "cell_type": "markdown",
   "id": "4663a82e-409e-4f11-9bd9-cda3f3238d64",
   "metadata": {},
   "source": [
    "# New Feature Set SVM"
   ]
  },
  {
   "cell_type": "code",
   "execution_count": 94,
   "id": "5062e96d-5f19-4622-9a1e-c14f8413b01e",
   "metadata": {},
   "outputs": [
    {
     "data": {
      "text/html": [
       "<style>#sk-container-id-1 {color: black;background-color: white;}#sk-container-id-1 pre{padding: 0;}#sk-container-id-1 div.sk-toggleable {background-color: white;}#sk-container-id-1 label.sk-toggleable__label {cursor: pointer;display: block;width: 100%;margin-bottom: 0;padding: 0.3em;box-sizing: border-box;text-align: center;}#sk-container-id-1 label.sk-toggleable__label-arrow:before {content: \"▸\";float: left;margin-right: 0.25em;color: #696969;}#sk-container-id-1 label.sk-toggleable__label-arrow:hover:before {color: black;}#sk-container-id-1 div.sk-estimator:hover label.sk-toggleable__label-arrow:before {color: black;}#sk-container-id-1 div.sk-toggleable__content {max-height: 0;max-width: 0;overflow: hidden;text-align: left;background-color: #f0f8ff;}#sk-container-id-1 div.sk-toggleable__content pre {margin: 0.2em;color: black;border-radius: 0.25em;background-color: #f0f8ff;}#sk-container-id-1 input.sk-toggleable__control:checked~div.sk-toggleable__content {max-height: 200px;max-width: 100%;overflow: auto;}#sk-container-id-1 input.sk-toggleable__control:checked~label.sk-toggleable__label-arrow:before {content: \"▾\";}#sk-container-id-1 div.sk-estimator input.sk-toggleable__control:checked~label.sk-toggleable__label {background-color: #d4ebff;}#sk-container-id-1 div.sk-label input.sk-toggleable__control:checked~label.sk-toggleable__label {background-color: #d4ebff;}#sk-container-id-1 input.sk-hidden--visually {border: 0;clip: rect(1px 1px 1px 1px);clip: rect(1px, 1px, 1px, 1px);height: 1px;margin: -1px;overflow: hidden;padding: 0;position: absolute;width: 1px;}#sk-container-id-1 div.sk-estimator {font-family: monospace;background-color: #f0f8ff;border: 1px dotted black;border-radius: 0.25em;box-sizing: border-box;margin-bottom: 0.5em;}#sk-container-id-1 div.sk-estimator:hover {background-color: #d4ebff;}#sk-container-id-1 div.sk-parallel-item::after {content: \"\";width: 100%;border-bottom: 1px solid gray;flex-grow: 1;}#sk-container-id-1 div.sk-label:hover label.sk-toggleable__label {background-color: #d4ebff;}#sk-container-id-1 div.sk-serial::before {content: \"\";position: absolute;border-left: 1px solid gray;box-sizing: border-box;top: 0;bottom: 0;left: 50%;z-index: 0;}#sk-container-id-1 div.sk-serial {display: flex;flex-direction: column;align-items: center;background-color: white;padding-right: 0.2em;padding-left: 0.2em;position: relative;}#sk-container-id-1 div.sk-item {position: relative;z-index: 1;}#sk-container-id-1 div.sk-parallel {display: flex;align-items: stretch;justify-content: center;background-color: white;position: relative;}#sk-container-id-1 div.sk-item::before, #sk-container-id-1 div.sk-parallel-item::before {content: \"\";position: absolute;border-left: 1px solid gray;box-sizing: border-box;top: 0;bottom: 0;left: 50%;z-index: -1;}#sk-container-id-1 div.sk-parallel-item {display: flex;flex-direction: column;z-index: 1;position: relative;background-color: white;}#sk-container-id-1 div.sk-parallel-item:first-child::after {align-self: flex-end;width: 50%;}#sk-container-id-1 div.sk-parallel-item:last-child::after {align-self: flex-start;width: 50%;}#sk-container-id-1 div.sk-parallel-item:only-child::after {width: 0;}#sk-container-id-1 div.sk-dashed-wrapped {border: 1px dashed gray;margin: 0 0.4em 0.5em 0.4em;box-sizing: border-box;padding-bottom: 0.4em;background-color: white;}#sk-container-id-1 div.sk-label label {font-family: monospace;font-weight: bold;display: inline-block;line-height: 1.2em;}#sk-container-id-1 div.sk-label-container {text-align: center;}#sk-container-id-1 div.sk-container {/* jupyter's `normalize.less` sets `[hidden] { display: none; }` but bootstrap.min.css set `[hidden] { display: none !important; }` so we also need the `!important` here to be able to override the default hidden behavior on the sphinx rendered scikit-learn.org. See: https://github.com/scikit-learn/scikit-learn/issues/21755 */display: inline-block !important;position: relative;}#sk-container-id-1 div.sk-text-repr-fallback {display: none;}</style><div id=\"sk-container-id-1\" class=\"sk-top-container\"><div class=\"sk-text-repr-fallback\"><pre>SVC(gamma=&#x27;auto&#x27;, kernel=&#x27;linear&#x27;, probability=True)</pre><b>In a Jupyter environment, please rerun this cell to show the HTML representation or trust the notebook. <br />On GitHub, the HTML representation is unable to render, please try loading this page with nbviewer.org.</b></div><div class=\"sk-container\" hidden><div class=\"sk-item\"><div class=\"sk-estimator sk-toggleable\"><input class=\"sk-toggleable__control sk-hidden--visually\" id=\"sk-estimator-id-1\" type=\"checkbox\" checked><label for=\"sk-estimator-id-1\" class=\"sk-toggleable__label sk-toggleable__label-arrow\">SVC</label><div class=\"sk-toggleable__content\"><pre>SVC(gamma=&#x27;auto&#x27;, kernel=&#x27;linear&#x27;, probability=True)</pre></div></div></div></div></div>"
      ],
      "text/plain": [
       "SVC(gamma='auto', kernel='linear', probability=True)"
      ]
     },
     "execution_count": 94,
     "metadata": {},
     "output_type": "execute_result"
    }
   ],
   "source": [
    "from sklearn.svm import SVC\n",
    "linSvc = SVC(kernel = 'linear', gamma = 'auto', probability = True)\n",
    "linSvc.fit(X_train, Y_train)"
   ]
  },
  {
   "cell_type": "code",
   "execution_count": 95,
   "id": "bfb40809-2c5f-4a35-a4e4-af3c61f58167",
   "metadata": {},
   "outputs": [
    {
     "name": "stdout",
     "output_type": "stream",
     "text": [
      "Accuracy on unknown data is 0.7692307692307693\n"
     ]
    }
   ],
   "source": [
    "from sklearn.metrics import accuracy_score\n",
    "pred1 = linSvc.predict(X_test)\n",
    "print(\"Accuracy on unknown data is\",accuracy_score(Y_test, pred1))"
   ]
  },
  {
   "cell_type": "code",
   "execution_count": 96,
   "id": "887de844-bf93-4d4c-b16b-d70757a1bba9",
   "metadata": {},
   "outputs": [
    {
     "name": "stderr",
     "output_type": "stream",
     "text": [
      "C:\\Users\\hunte\\anaconda3\\envs\\py\\lib\\site-packages\\sklearn\\utils\\deprecation.py:87: FutureWarning: Function plot_precision_recall_curve is deprecated; This will be removed in v0.5.0. Please use scikitplot.metrics.plot_precision_recall instead.\n",
      "  warnings.warn(msg, category=FutureWarning)\n"
     ]
    },
    {
     "data": {
      "image/png": "[encoded data removed]",
      "text/plain": [
       "<Figure size 640x480 with 1 Axes>"
      ]
     },
     "metadata": {},
     "output_type": "display_data"
    },
    {
     "data": {
      "image/png": "[encoded data removed]",
      "text/plain": [
       "<Figure size 640x480 with 2 Axes>"
      ]
     },
     "metadata": {},
     "output_type": "display_data"
    }
   ],
   "source": [
    "import os\n",
    "#import cv2\n",
    "import seaborn as sns\n",
    "import scikitplot as skplt\n",
    "prob = linSvc.predict_proba(X_test)\n",
    "skplt.metrics.plot_precision_recall_curve(Y_test, prob)\n",
    "skplt.metrics.plot_confusion_matrix(Y_test, pred1)\n",
    "plt.show()"
   ]
  },
  {
   "cell_type": "markdown",
   "id": "d8f2bc59-a469-44fd-b32c-d6548f4fb0b1",
   "metadata": {},
   "source": [
    "# New Feature Set Random Forest"
   ]
  },
  {
   "cell_type": "code",
   "execution_count": 97,
   "id": "1751754b-9514-4bac-bdaa-6648530df80f",
   "metadata": {},
   "outputs": [],
   "source": [
    "import tensorflow as tf\n",
    "from sklearn.ensemble import RandomForestClassifier"
   ]
  },
  {
   "cell_type": "code",
   "execution_count": 98,
   "id": "6dad6861-3a69-4e1e-91b2-74218aca5d4c",
   "metadata": {},
   "outputs": [
    {
     "data": {
      "text/html": [
       "<style>#sk-container-id-2 {color: black;background-color: white;}#sk-container-id-2 pre{padding: 0;}#sk-container-id-2 div.sk-toggleable {background-color: white;}#sk-container-id-2 label.sk-toggleable__label {cursor: pointer;display: block;width: 100%;margin-bottom: 0;padding: 0.3em;box-sizing: border-box;text-align: center;}#sk-container-id-2 label.sk-toggleable__label-arrow:before {content: \"▸\";float: left;margin-right: 0.25em;color: #696969;}#sk-container-id-2 label.sk-toggleable__label-arrow:hover:before {color: black;}#sk-container-id-2 div.sk-estimator:hover label.sk-toggleable__label-arrow:before {color: black;}#sk-container-id-2 div.sk-toggleable__content {max-height: 0;max-width: 0;overflow: hidden;text-align: left;background-color: #f0f8ff;}#sk-container-id-2 div.sk-toggleable__content pre {margin: 0.2em;color: black;border-radius: 0.25em;background-color: #f0f8ff;}#sk-container-id-2 input.sk-toggleable__control:checked~div.sk-toggleable__content {max-height: 200px;max-width: 100%;overflow: auto;}#sk-container-id-2 input.sk-toggleable__control:checked~label.sk-toggleable__label-arrow:before {content: \"▾\";}#sk-container-id-2 div.sk-estimator input.sk-toggleable__control:checked~label.sk-toggleable__label {background-color: #d4ebff;}#sk-container-id-2 div.sk-label input.sk-toggleable__control:checked~label.sk-toggleable__label {background-color: #d4ebff;}#sk-container-id-2 input.sk-hidden--visually {border: 0;clip: rect(1px 1px 1px 1px);clip: rect(1px, 1px, 1px, 1px);height: 1px;margin: -1px;overflow: hidden;padding: 0;position: absolute;width: 1px;}#sk-container-id-2 div.sk-estimator {font-family: monospace;background-color: #f0f8ff;border: 1px dotted black;border-radius: 0.25em;box-sizing: border-box;margin-bottom: 0.5em;}#sk-container-id-2 div.sk-estimator:hover {background-color: #d4ebff;}#sk-container-id-2 div.sk-parallel-item::after {content: \"\";width: 100%;border-bottom: 1px solid gray;flex-grow: 1;}#sk-container-id-2 div.sk-label:hover label.sk-toggleable__label {background-color: #d4ebff;}#sk-container-id-2 div.sk-serial::before {content: \"\";position: absolute;border-left: 1px solid gray;box-sizing: border-box;top: 0;bottom: 0;left: 50%;z-index: 0;}#sk-container-id-2 div.sk-serial {display: flex;flex-direction: column;align-items: center;background-color: white;padding-right: 0.2em;padding-left: 0.2em;position: relative;}#sk-container-id-2 div.sk-item {position: relative;z-index: 1;}#sk-container-id-2 div.sk-parallel {display: flex;align-items: stretch;justify-content: center;background-color: white;position: relative;}#sk-container-id-2 div.sk-item::before, #sk-container-id-2 div.sk-parallel-item::before {content: \"\";position: absolute;border-left: 1px solid gray;box-sizing: border-box;top: 0;bottom: 0;left: 50%;z-index: -1;}#sk-container-id-2 div.sk-parallel-item {display: flex;flex-direction: column;z-index: 1;position: relative;background-color: white;}#sk-container-id-2 div.sk-parallel-item:first-child::after {align-self: flex-end;width: 50%;}#sk-container-id-2 div.sk-parallel-item:last-child::after {align-self: flex-start;width: 50%;}#sk-container-id-2 div.sk-parallel-item:only-child::after {width: 0;}#sk-container-id-2 div.sk-dashed-wrapped {border: 1px dashed gray;margin: 0 0.4em 0.5em 0.4em;box-sizing: border-box;padding-bottom: 0.4em;background-color: white;}#sk-container-id-2 div.sk-label label {font-family: monospace;font-weight: bold;display: inline-block;line-height: 1.2em;}#sk-container-id-2 div.sk-label-container {text-align: center;}#sk-container-id-2 div.sk-container {/* jupyter's `normalize.less` sets `[hidden] { display: none; }` but bootstrap.min.css set `[hidden] { display: none !important; }` so we also need the `!important` here to be able to override the default hidden behavior on the sphinx rendered scikit-learn.org. See: https://github.com/scikit-learn/scikit-learn/issues/21755 */display: inline-block !important;position: relative;}#sk-container-id-2 div.sk-text-repr-fallback {display: none;}</style><div id=\"sk-container-id-2\" class=\"sk-top-container\"><div class=\"sk-text-repr-fallback\"><pre>RandomForestClassifier()</pre><b>In a Jupyter environment, please rerun this cell to show the HTML representation or trust the notebook. <br />On GitHub, the HTML representation is unable to render, please try loading this page with nbviewer.org.</b></div><div class=\"sk-container\" hidden><div class=\"sk-item\"><div class=\"sk-estimator sk-toggleable\"><input class=\"sk-toggleable__control sk-hidden--visually\" id=\"sk-estimator-id-2\" type=\"checkbox\" checked><label for=\"sk-estimator-id-2\" class=\"sk-toggleable__label sk-toggleable__label-arrow\">RandomForestClassifier</label><div class=\"sk-toggleable__content\"><pre>RandomForestClassifier()</pre></div></div></div></div></div>"
      ],
      "text/plain": [
       "RandomForestClassifier()"
      ]
     },
     "execution_count": 98,
     "metadata": {},
     "output_type": "execute_result"
    }
   ],
   "source": [
    "# create the classifier\n",
    "classifier = RandomForestClassifier(n_estimators=100)\n",
    "\n",
    "# Train the model using the training sets\n",
    "classifier.fit(X_train, Y_train)"
   ]
  },
  {
   "cell_type": "code",
   "execution_count": 99,
   "id": "97ed060e-263b-4b36-8a98-1726289595b2",
   "metadata": {},
   "outputs": [],
   "source": [
    "# predictin on the test set\n",
    "y_pred = classifier.predict(X_test)"
   ]
  },
  {
   "cell_type": "code",
   "execution_count": 100,
   "id": "859033c8-e95c-4244-b256-a2d5d2abc954",
   "metadata": {},
   "outputs": [
    {
     "name": "stdout",
     "output_type": "stream",
     "text": [
      "Accuracy: 0.6153846153846154\n"
     ]
    }
   ],
   "source": [
    "from sklearn.metrics import accuracy_score\n",
    "\n",
    "# Calculate Model Accuracy\n",
    "print(\"Accuracy:\", accuracy_score(Y_test, y_pred))"
   ]
  },
  {
   "cell_type": "code",
   "execution_count": 101,
   "id": "5ca2b7a3-4f9f-426a-9362-c1592d760572",
   "metadata": {},
   "outputs": [],
   "source": [
    "dfList = df.columns.values.tolist()\n",
    "dfList = dfList[:-1]"
   ]
  },
  {
   "cell_type": "code",
   "execution_count": 102,
   "id": "c7411c0e-f3a3-47ea-993a-ad57cae8ec62",
   "metadata": {},
   "outputs": [
    {
     "data": {
      "text/html": [
       "<div>\n",
       "<style scoped>\n",
       "    .dataframe tbody tr th:only-of-type {\n",
       "        vertical-align: middle;\n",
       "    }\n",
       "\n",
       "    .dataframe tbody tr th {\n",
       "        vertical-align: top;\n",
       "    }\n",
       "\n",
       "    .dataframe thead th {\n",
       "        text-align: right;\n",
       "    }\n",
       "</style>\n",
       "<table border=\"1\" class=\"dataframe\">\n",
       "  <thead>\n",
       "    <tr style=\"text-align: right;\">\n",
       "      <th></th>\n",
       "      <th>feature</th>\n",
       "      <th>importance</th>\n",
       "    </tr>\n",
       "  </thead>\n",
       "  <tbody>\n",
       "    <tr>\n",
       "      <th>13</th>\n",
       "      <td>T1 Avg Pass Yrds/Att</td>\n",
       "      <td>0.125486</td>\n",
       "    </tr>\n",
       "    <tr>\n",
       "      <th>3</th>\n",
       "      <td>T0 Avg Pass Yrds/Att</td>\n",
       "      <td>0.096457</td>\n",
       "    </tr>\n",
       "    <tr>\n",
       "      <th>11</th>\n",
       "      <td>T1 Rushing Yrds</td>\n",
       "      <td>0.087558</td>\n",
       "    </tr>\n",
       "    <tr>\n",
       "      <th>1</th>\n",
       "      <td>T0 Rushing Yrds</td>\n",
       "      <td>0.066885</td>\n",
       "    </tr>\n",
       "    <tr>\n",
       "      <th>18</th>\n",
       "      <td>T1 Interceptions</td>\n",
       "      <td>0.062653</td>\n",
       "    </tr>\n",
       "    <tr>\n",
       "      <th>16</th>\n",
       "      <td>T1 TOP (min)</td>\n",
       "      <td>0.057931</td>\n",
       "    </tr>\n",
       "    <tr>\n",
       "      <th>5</th>\n",
       "      <td>T0 TOP (min)</td>\n",
       "      <td>0.057727</td>\n",
       "    </tr>\n",
       "    <tr>\n",
       "      <th>12</th>\n",
       "      <td>T1 Total Yrds</td>\n",
       "      <td>0.046894</td>\n",
       "    </tr>\n",
       "    <tr>\n",
       "      <th>10</th>\n",
       "      <td>T1 Passing Yrds</td>\n",
       "      <td>0.046514</td>\n",
       "    </tr>\n",
       "    <tr>\n",
       "      <th>19</th>\n",
       "      <td>T1 Sacked</td>\n",
       "      <td>0.045893</td>\n",
       "    </tr>\n",
       "    <tr>\n",
       "      <th>2</th>\n",
       "      <td>T0 Total Yrds</td>\n",
       "      <td>0.044870</td>\n",
       "    </tr>\n",
       "    <tr>\n",
       "      <th>7</th>\n",
       "      <td>T0 Interceptions</td>\n",
       "      <td>0.043020</td>\n",
       "    </tr>\n",
       "    <tr>\n",
       "      <th>14</th>\n",
       "      <td>T1 Penalty Yrds</td>\n",
       "      <td>0.039354</td>\n",
       "    </tr>\n",
       "    <tr>\n",
       "      <th>6</th>\n",
       "      <td>T0 First Downs</td>\n",
       "      <td>0.034020</td>\n",
       "    </tr>\n",
       "    <tr>\n",
       "      <th>17</th>\n",
       "      <td>T1 First Downs</td>\n",
       "      <td>0.031605</td>\n",
       "    </tr>\n",
       "    <tr>\n",
       "      <th>8</th>\n",
       "      <td>T0 Sacked</td>\n",
       "      <td>0.026283</td>\n",
       "    </tr>\n",
       "    <tr>\n",
       "      <th>9</th>\n",
       "      <td>T1 Wins % Last 5</td>\n",
       "      <td>0.025423</td>\n",
       "    </tr>\n",
       "    <tr>\n",
       "      <th>15</th>\n",
       "      <td>T1 Fum Lost</td>\n",
       "      <td>0.022076</td>\n",
       "    </tr>\n",
       "    <tr>\n",
       "      <th>0</th>\n",
       "      <td>T0 Wins % Last 5</td>\n",
       "      <td>0.020282</td>\n",
       "    </tr>\n",
       "    <tr>\n",
       "      <th>4</th>\n",
       "      <td>T0 Fum Lost</td>\n",
       "      <td>0.019068</td>\n",
       "    </tr>\n",
       "  </tbody>\n",
       "</table>\n",
       "</div>"
      ],
      "text/plain": [
       "                 feature  importance\n",
       "13  T1 Avg Pass Yrds/Att    0.125486\n",
       "3   T0 Avg Pass Yrds/Att    0.096457\n",
       "11       T1 Rushing Yrds    0.087558\n",
       "1        T0 Rushing Yrds    0.066885\n",
       "18      T1 Interceptions    0.062653\n",
       "16          T1 TOP (min)    0.057931\n",
       "5           T0 TOP (min)    0.057727\n",
       "12         T1 Total Yrds    0.046894\n",
       "10       T1 Passing Yrds    0.046514\n",
       "19             T1 Sacked    0.045893\n",
       "2          T0 Total Yrds    0.044870\n",
       "7       T0 Interceptions    0.043020\n",
       "14       T1 Penalty Yrds    0.039354\n",
       "6         T0 First Downs    0.034020\n",
       "17        T1 First Downs    0.031605\n",
       "8              T0 Sacked    0.026283\n",
       "9       T1 Wins % Last 5    0.025423\n",
       "15           T1 Fum Lost    0.022076\n",
       "0       T0 Wins % Last 5    0.020282\n",
       "4            T0 Fum Lost    0.019068"
      ]
     },
     "execution_count": 102,
     "metadata": {},
     "output_type": "execute_result"
    }
   ],
   "source": [
    "impRFFeatures = pd.DataFrame(\n",
    "    {\"feature\": dfList, \"importance\": classifier.feature_importances_}\n",
    ").sort_values(\"importance\", ascending=False)\n",
    "\n",
    "impRFFeatures"
   ]
  },
  {
   "cell_type": "markdown",
   "id": "a41a9ec1-f3ad-4207-bb4b-2ff584881128",
   "metadata": {},
   "source": [
    "From these 3 models the neural network seemed to perform around the same as the previous set. However, both the SVM and the Random Forest performed worse"
   ]
  },
  {
   "cell_type": "code",
   "execution_count": null,
   "id": "cfc5e1f6-6b4c-408c-890b-2f0f93abfde8",
   "metadata": {},
   "outputs": [],
   "source": []
  }
 ],
 "metadata": {
  "kernelspec": {
   "display_name": "Python 3 (ipykernel)",
   "language": "python",
   "name": "python3"
  },
  "language_info": {
   "codemirror_mode": {
    "name": "ipython",
    "version": 3
   },
   "file_extension": ".py",
   "mimetype": "text/x-python",
   "name": "python",
   "nbconvert_exporter": "python",
   "pygments_lexer": "ipython3",
   "version": "3.9.13"
  }
 },
 "nbformat": 4,
 "nbformat_minor": 5
}
